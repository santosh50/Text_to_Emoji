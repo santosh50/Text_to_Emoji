{
  "nbformat": 4,
  "nbformat_minor": 0,
  "metadata": {
    "kernelspec": {
      "display_name": "Python 3",
      "language": "python",
      "name": "python3"
    },
    "language_info": {
      "codemirror_mode": {
        "name": "ipython",
        "version": 3
      },
      "file_extension": ".py",
      "mimetype": "text/x-python",
      "name": "python",
      "nbconvert_exporter": "python",
      "pygments_lexer": "ipython3",
      "version": "3.6.5"
    },
    "colab": {
      "name": "sentence_to_emoji.ipynb",
      "provenance": [],
      "collapsed_sections": [],
      "include_colab_link": true
    }
  },
  "cells": [
    {
      "cell_type": "markdown",
      "metadata": {
        "id": "view-in-github",
        "colab_type": "text"
      },
      "source": [
        "<a href=\"https://colab.research.google.com/github/santosh50/Text_to_Emoji/blob/main/sentence_to_emoji.ipynb\" target=\"_parent\"><img src=\"https://colab.research.google.com/assets/colab-badge.svg\" alt=\"Open In Colab\"/></a>"
      ]
    },
    {
      "cell_type": "code",
      "metadata": {
        "id": "YDH_p_vVERTo"
      },
      "source": [
        "import csv\n",
        "import numpy as np\n",
        "import emoji\n",
        "import pandas as pd\n",
        "import matplotlib.pyplot as plt\n",
        "from sklearn.metrics import confusion_matrix\n",
        "\n",
        "def read_glove_vecs(glove_file):\n",
        "    with open(glove_file, 'r') as f:\n",
        "        words = set()\n",
        "        word_to_vec_map = {}\n",
        "        for line in f:\n",
        "            line = line.strip().split()\n",
        "            curr_word = line[0]\n",
        "            words.add(curr_word)\n",
        "            word_to_vec_map[curr_word] = np.array(line[1:], dtype=np.float64)\n",
        "        \n",
        "        i = 1\n",
        "        words_to_index = {}\n",
        "        index_to_words = {}\n",
        "        for w in sorted(words):\n",
        "            words_to_index[w] = i\n",
        "            index_to_words[i] = w\n",
        "            i = i + 1\n",
        "    return words_to_index, index_to_words, word_to_vec_map\n",
        "\n",
        "def softmax(x):\n",
        "    \"\"\"Compute softmax values for each sets of scores in x.\"\"\"\n",
        "    e_x = np.exp(x - np.max(x))\n",
        "    return e_x / e_x.sum()\n",
        "\n",
        "\n",
        "def read_csv(filename = 'data/emojify_data.csv'):\n",
        "    phrase = []\n",
        "    emoji = []\n",
        "\n",
        "    with open (filename) as csvDataFile:\n",
        "        csvReader = csv.reader(csvDataFile)\n",
        "\n",
        "        for row in csvReader:\n",
        "            phrase.append(row[0])\n",
        "            emoji.append(row[1])\n",
        "\n",
        "    X = np.asarray(phrase)\n",
        "    Y = np.asarray(emoji, dtype=int)\n",
        "\n",
        "    return X, Y\n",
        "\n",
        "def convert_to_one_hot(Y, C):\n",
        "    Y = np.eye(C)[Y.reshape(-1)]\n",
        "    return Y\n",
        "\n",
        "\n",
        "emoji_dictionary = {\"0\": \"\\u2764\\uFE0F\",    # :heart: prints a black instead of red heart depending on the font\n",
        "                    \"1\": \":baseball:\",\n",
        "                    \"2\": \":smile:\",\n",
        "                    \"3\": \":disappointed:\",\n",
        "                    \"4\": \":fork_and_knife:\"}\n",
        "\n",
        "def label_to_emoji(label):\n",
        "    \"\"\"\n",
        "    Converts a label (int or string) into the corresponding emoji code (string) ready to be printed\n",
        "    \"\"\"\n",
        "    return emoji.emojize(emoji_dictionary[str(label)], use_aliases=True\n",
        ")              \n",
        "    \n",
        "def print_predictions(X, pred):\n",
        "    print()\n",
        "    for i in range(X.shape[0]):\n",
        "        print(X[i], label_to_emoji(int(pred[i])))\n",
        "        \n",
        "        \n",
        "def plot_confusion_matrix(y_actu, y_pred, title='Confusion matrix', cmap=plt.cm.gray_r):\n",
        "    \n",
        "    df_confusion = pd.crosstab(y_actu, y_pred.reshape(y_pred.shape[0],), rownames=['Actual'], colnames=['Predicted'], margins=True)\n",
        "    \n",
        "    df_conf_norm = df_confusion / df_confusion.sum(axis=1)\n",
        "    \n",
        "    plt.matshow(df_confusion, cmap=cmap) # imshow\n",
        "    #plt.title(title)\n",
        "    plt.colorbar()\n",
        "    tick_marks = np.arange(len(df_confusion.columns))\n",
        "    plt.xticks(tick_marks, df_confusion.columns, rotation=45)\n",
        "    plt.yticks(tick_marks, df_confusion.index)\n",
        "    #plt.tight_layout()\n",
        "    plt.ylabel(df_confusion.index.name)\n",
        "    plt.xlabel(df_confusion.columns.name)\n",
        "    \n",
        "    \n",
        "def predict(X, Y, W, b, word_to_vec_map):\n",
        "    \"\"\"\n",
        "    Given X (sentences) and Y (emoji indices), predict emojis and compute the accuracy of your model over the given set.\n",
        "    \n",
        "    Arguments:\n",
        "    X -- input data containing sentences, numpy array of shape (m, None)\n",
        "    Y -- labels, containing index of the label emoji, numpy array of shape (m, 1)\n",
        "    \n",
        "    Returns:\n",
        "    pred -- numpy array of shape (m, 1) with your predictions\n",
        "    \"\"\"\n",
        "    m = X.shape[0]\n",
        "    pred = np.zeros((m, 1))\n",
        "    \n",
        "    for j in range(m):                       # Loop over training examples\n",
        "        \n",
        "        # Split jth test example (sentence) into list of lower case words\n",
        "        words = X[j].lower().split()\n",
        "        \n",
        "        # Average words' vectors\n",
        "        avg = np.zeros((50,))\n",
        "        for w in words:\n",
        "            avg += word_to_vec_map[w]\n",
        "        avg = avg/len(words)\n",
        "\n",
        "        # Forward propagation\n",
        "        Z = np.dot(W, avg) + b\n",
        "        A = softmax(Z)\n",
        "        pred[j] = np.argmax(A)\n",
        "        \n",
        "    print(\"Accuracy: \"  + str(np.mean((pred[:] == Y.reshape(Y.shape[0],1)[:]))))\n",
        "    \n",
        "    return pred"
      ],
      "execution_count": null,
      "outputs": []
    },
    {
      "cell_type": "code",
      "metadata": {
        "id": "tA1q2_T8-M-t",
        "colab": {
          "base_uri": "https://localhost:8080/"
        },
        "outputId": "35ff6c4a-87f8-449e-f062-6ba272334dee"
      },
      "source": [
        "pip install emoji --upgrade\n"
      ],
      "execution_count": null,
      "outputs": [
        {
          "output_type": "stream",
          "text": [
            "Collecting emoji\n",
            "\u001b[?25l  Downloading https://files.pythonhosted.org/packages/24/fa/b3368f41b95a286f8d300e323449ab4e86b85334c2e0b477e94422b8ed0f/emoji-1.2.0-py3-none-any.whl (131kB)\n",
            "\r\u001b[K     |██▌                             | 10kB 17.8MB/s eta 0:00:01\r\u001b[K     |█████                           | 20kB 22.2MB/s eta 0:00:01\r\u001b[K     |███████▌                        | 30kB 26.1MB/s eta 0:00:01\r\u001b[K     |██████████                      | 40kB 23.1MB/s eta 0:00:01\r\u001b[K     |████████████▌                   | 51kB 16.6MB/s eta 0:00:01\r\u001b[K     |███████████████                 | 61kB 18.7MB/s eta 0:00:01\r\u001b[K     |█████████████████▌              | 71kB 20.5MB/s eta 0:00:01\r\u001b[K     |████████████████████            | 81kB 22.0MB/s eta 0:00:01\r\u001b[K     |██████████████████████▌         | 92kB 22.9MB/s eta 0:00:01\r\u001b[K     |█████████████████████████       | 102kB 22.4MB/s eta 0:00:01\r\u001b[K     |███████████████████████████▌    | 112kB 22.4MB/s eta 0:00:01\r\u001b[K     |██████████████████████████████  | 122kB 22.4MB/s eta 0:00:01\r\u001b[K     |████████████████████████████████| 133kB 22.4MB/s \n",
            "\u001b[?25hInstalling collected packages: emoji\n",
            "Successfully installed emoji-1.2.0\n"
          ],
          "name": "stdout"
        }
      ]
    },
    {
      "cell_type": "code",
      "metadata": {
        "id": "tSadFI2F7HYz",
        "colab": {
          "base_uri": "https://localhost:8080/"
        },
        "outputId": "c72fdc78-24a3-4d52-dd80-54d6c6966162"
      },
      "source": [
        "from google.colab import drive\n",
        "drive.mount('/content/drive')"
      ],
      "execution_count": null,
      "outputs": [
        {
          "output_type": "stream",
          "text": [
            "Mounted at /content/drive\n"
          ],
          "name": "stdout"
        }
      ]
    },
    {
      "cell_type": "code",
      "metadata": {
        "id": "41Ph1XC36eXj"
      },
      "source": [
        "import numpy as np\n",
        "import emoji\n",
        "import matplotlib.pyplot as plt\n",
        "\n",
        "%matplotlib inline"
      ],
      "execution_count": null,
      "outputs": []
    },
    {
      "cell_type": "code",
      "metadata": {
        "id": "OSf_-_Ej6eXt"
      },
      "source": [
        "X_train, Y_train = read_csv('/content/drive/My Drive/NLP/emojify_data.csv')"
      ],
      "execution_count": null,
      "outputs": []
    },
    {
      "cell_type": "code",
      "metadata": {
        "id": "AXdbY2Aa6eXu"
      },
      "source": [
        "maxLen = len(max(X_train, key=len).split())"
      ],
      "execution_count": null,
      "outputs": []
    },
    {
      "cell_type": "code",
      "metadata": {
        "id": "-gWpE0B26eXv",
        "colab": {
          "base_uri": "https://localhost:8080/"
        },
        "outputId": "20b27997-909d-4570-c95c-e05e5d2c0bba"
      },
      "source": [
        "index = 99\n",
        "print(X_train[index], label_to_emoji(Y_train[index]))"
      ],
      "execution_count": null,
      "outputs": [
        {
          "output_type": "stream",
          "text": [
            "her smile is so charming 😄\n"
          ],
          "name": "stdout"
        }
      ]
    },
    {
      "cell_type": "code",
      "metadata": {
        "id": "AuFX2haY6eXw"
      },
      "source": [
        "word_to_index, index_to_word, word_to_vec_map = read_glove_vecs('/content/drive/My Drive/NLP/glove.6B.100d.txt')"
      ],
      "execution_count": null,
      "outputs": []
    },
    {
      "cell_type": "code",
      "metadata": {
        "id": "rbKB32Xq6eXw"
      },
      "source": [
        "import numpy as np\n",
        "np.random.seed(0)\n",
        "from keras.models import Model\n",
        "from keras.layers import Dense, Input, Dropout, LSTM, Activation\n",
        "from keras.layers.embeddings import Embedding\n",
        "from keras.preprocessing import sequence\n",
        "from keras.initializers import glorot_uniform\n",
        "np.random.seed(1)"
      ],
      "execution_count": null,
      "outputs": []
    },
    {
      "cell_type": "code",
      "metadata": {
        "id": "rGVfHWeT6eXx"
      },
      "source": [
        "def sentences_to_indices(X, word_to_index, max_len):   \n",
        "    m = X.shape[0]                                \n",
        "    X_indices = np.zeros((m, max_len))    \n",
        "    for i in range(m):                            \n",
        "        sentence_words = [w.lower() for w in X[i].split()]\n",
        "        j = 0\n",
        "        for w in sentence_words:\n",
        "            X_indices[i, j] = word_to_index[w]\n",
        "            j += 1    \n",
        "    return X_indices"
      ],
      "execution_count": null,
      "outputs": []
    },
    {
      "cell_type": "code",
      "metadata": {
        "scrolled": true,
        "id": "WfKoxd1N6eXx",
        "colab": {
          "base_uri": "https://localhost:8080/"
        },
        "outputId": "23bfa23f-5833-4793-bfc0-b21f1f37b8e0"
      },
      "source": [
        "X1 = np.array([\"haha\", \"lets play cricket\", \"tonight we are eating pizza\"])\n",
        "X1_indices = sentences_to_indices(X1,word_to_index, max_len = 5)\n",
        "print(\"X1 =\", X1)\n",
        "print(\"X1_indices =\", X1_indices)"
      ],
      "execution_count": null,
      "outputs": [
        {
          "output_type": "stream",
          "text": [
            "X1 = ['haha' 'lets play cricket' 'tonight we are eating pizza']\n",
            "X1_indices = [[171102.      0.      0.      0.      0.]\n",
            " [220930. 286375. 111805.      0.      0.]\n",
            " [361859. 384374.  58997. 132714. 285806.]]\n"
          ],
          "name": "stdout"
        }
      ]
    },
    {
      "cell_type": "code",
      "metadata": {
        "id": "Z6GuMRC16eXx"
      },
      "source": [
        "def pretrained_embedding_layer(word_to_vec_map, word_to_index):\n",
        "    \n",
        "    vocab_len = len(word_to_index) + 1                  \n",
        "    emb_dim = word_to_vec_map[\"cucumber\"].shape[0]     \n",
        "    emb_matrix = np.zeros((vocab_len, emb_dim))\n",
        "    for word, index in word_to_index.items():\n",
        "        emb_matrix[index, :] = word_to_vec_map[word] \n",
        "    embedding_layer = Embedding(vocab_len, emb_dim, trainable=False)\n",
        "    embedding_layer.build((None,))\n",
        "    embedding_layer.set_weights([emb_matrix])\n",
        "    \n",
        "    return embedding_layer"
      ],
      "execution_count": null,
      "outputs": []
    },
    {
      "cell_type": "code",
      "metadata": {
        "id": "x7L_xLdX6eXy"
      },
      "source": [
        "def emoji_converter(input_shape, word_to_vec_map, word_to_index):\n",
        "    sentence_indices = Input(input_shape, dtype='int32')\n",
        "    embedding_layer = pretrained_embedding_layer(word_to_vec_map, word_to_index)\n",
        "    embeddings = embedding_layer(sentence_indices)   \n",
        "    X = LSTM(128, return_sequences=True)(embeddings)\n",
        "    X = Dropout(0.4)(X)\n",
        "    X = LSTM(128, return_sequences=False)(X)\n",
        "    X = Dropout(0.4)(X)\n",
        "    X = Dense(7)(X)\n",
        "    X = Activation('softmax')(X)\n",
        "    model = Model(inputs=sentence_indices, outputs=X)   \n",
        "    return model"
      ],
      "execution_count": null,
      "outputs": []
    },
    {
      "cell_type": "code",
      "metadata": {
        "id": "FWushMZ66eXy",
        "colab": {
          "base_uri": "https://localhost:8080/"
        },
        "outputId": "b5a8d8ca-7c59-47a2-9a51-c941b5538cdf"
      },
      "source": [
        "model = emoji_converter((maxLen,), word_to_vec_map, word_to_index)\n",
        "model.summary()"
      ],
      "execution_count": null,
      "outputs": [
        {
          "output_type": "stream",
          "text": [
            "Model: \"model\"\n",
            "_________________________________________________________________\n",
            "Layer (type)                 Output Shape              Param #   \n",
            "=================================================================\n",
            "input_1 (InputLayer)         [(None, 10)]              0         \n",
            "_________________________________________________________________\n",
            "embedding (Embedding)        (None, 10, 100)           40000100  \n",
            "_________________________________________________________________\n",
            "lstm (LSTM)                  (None, 10, 128)           117248    \n",
            "_________________________________________________________________\n",
            "dropout (Dropout)            (None, 10, 128)           0         \n",
            "_________________________________________________________________\n",
            "lstm_1 (LSTM)                (None, 128)               131584    \n",
            "_________________________________________________________________\n",
            "dropout_1 (Dropout)          (None, 128)               0         \n",
            "_________________________________________________________________\n",
            "dense (Dense)                (None, 7)                 903       \n",
            "_________________________________________________________________\n",
            "activation (Activation)      (None, 7)                 0         \n",
            "=================================================================\n",
            "Total params: 40,249,835\n",
            "Trainable params: 249,735\n",
            "Non-trainable params: 40,000,100\n",
            "_________________________________________________________________\n"
          ],
          "name": "stdout"
        }
      ]
    },
    {
      "cell_type": "code",
      "metadata": {
        "id": "l8TIj_TQ6eXz"
      },
      "source": [
        "model.compile(loss='categorical_crossentropy', optimizer='adam', metrics=['accuracy'])"
      ],
      "execution_count": null,
      "outputs": []
    },
    {
      "cell_type": "code",
      "metadata": {
        "id": "5bGlDf806eXz"
      },
      "source": [
        "X_train_indices = sentences_to_indices(X_train, word_to_index, maxLen)\n",
        "Y_train_one_hot = convert_to_one_hot(Y_train, C = 7)"
      ],
      "execution_count": null,
      "outputs": []
    },
    {
      "cell_type": "code",
      "metadata": {
        "id": "eO4lucbe6eXz",
        "colab": {
          "base_uri": "https://localhost:8080/"
        },
        "outputId": "074f76d6-ca31-4879-aebb-7b3fc060b965"
      },
      "source": [
        "model.fit(X_train_indices, Y_train_one_hot, epochs = 50, batch_size = 32, shuffle=True)"
      ],
      "execution_count": null,
      "outputs": [
        {
          "output_type": "stream",
          "text": [
            "Epoch 1/50\n",
            "6/6 [==============================] - 4s 37ms/step - loss: 1.8673 - accuracy: 0.2885\n",
            "Epoch 2/50\n",
            "6/6 [==============================] - 0s 31ms/step - loss: 1.6291 - accuracy: 0.2981\n",
            "Epoch 3/50\n",
            "6/6 [==============================] - 0s 45ms/step - loss: 1.5317 - accuracy: 0.2306\n",
            "Epoch 4/50\n",
            "6/6 [==============================] - 0s 31ms/step - loss: 1.4490 - accuracy: 0.4386\n",
            "Epoch 5/50\n",
            "6/6 [==============================] - 0s 26ms/step - loss: 1.2797 - accuracy: 0.4747\n",
            "Epoch 6/50\n",
            "6/6 [==============================] - 0s 49ms/step - loss: 1.0338 - accuracy: 0.6260\n",
            "Epoch 7/50\n",
            "6/6 [==============================] - 0s 47ms/step - loss: 0.8674 - accuracy: 0.6516\n",
            "Epoch 8/50\n",
            "6/6 [==============================] - 0s 45ms/step - loss: 0.6989 - accuracy: 0.7339\n",
            "Epoch 9/50\n",
            "6/6 [==============================] - 0s 42ms/step - loss: 0.5939 - accuracy: 0.7512\n",
            "Epoch 10/50\n",
            "6/6 [==============================] - 0s 28ms/step - loss: 0.4455 - accuracy: 0.8448\n",
            "Epoch 11/50\n",
            "6/6 [==============================] - 0s 44ms/step - loss: 0.3613 - accuracy: 0.8811\n",
            "Epoch 12/50\n",
            "6/6 [==============================] - 0s 51ms/step - loss: 0.2552 - accuracy: 0.9496\n",
            "Epoch 13/50\n",
            "6/6 [==============================] - 0s 47ms/step - loss: 0.1945 - accuracy: 0.9465\n",
            "Epoch 14/50\n",
            "6/6 [==============================] - 0s 40ms/step - loss: 0.2415 - accuracy: 0.9162\n",
            "Epoch 15/50\n",
            "6/6 [==============================] - 0s 36ms/step - loss: 0.3207 - accuracy: 0.9023\n",
            "Epoch 16/50\n",
            "6/6 [==============================] - 0s 48ms/step - loss: 0.4216 - accuracy: 0.8230\n",
            "Epoch 17/50\n",
            "6/6 [==============================] - 0s 51ms/step - loss: 0.3736 - accuracy: 0.8590\n",
            "Epoch 18/50\n",
            "6/6 [==============================] - 0s 28ms/step - loss: 0.2022 - accuracy: 0.9066\n",
            "Epoch 19/50\n",
            "6/6 [==============================] - 0s 26ms/step - loss: 0.1304 - accuracy: 0.9596\n",
            "Epoch 20/50\n",
            "6/6 [==============================] - 0s 38ms/step - loss: 0.0722 - accuracy: 0.9858\n",
            "Epoch 21/50\n",
            "6/6 [==============================] - 0s 48ms/step - loss: 0.0773 - accuracy: 0.9774\n",
            "Epoch 22/50\n",
            "6/6 [==============================] - 0s 44ms/step - loss: 0.0405 - accuracy: 0.9964\n",
            "Epoch 23/50\n",
            "6/6 [==============================] - 0s 47ms/step - loss: 0.0309 - accuracy: 0.9984\n",
            "Epoch 24/50\n",
            "6/6 [==============================] - 0s 48ms/step - loss: 0.0174 - accuracy: 0.9975\n",
            "Epoch 25/50\n",
            "6/6 [==============================] - 0s 48ms/step - loss: 0.0291 - accuracy: 1.0000\n",
            "Epoch 26/50\n",
            "6/6 [==============================] - 0s 40ms/step - loss: 0.0520 - accuracy: 0.9848\n",
            "Epoch 27/50\n",
            "6/6 [==============================] - 0s 38ms/step - loss: 0.0344 - accuracy: 0.9975\n",
            "Epoch 28/50\n",
            "6/6 [==============================] - 0s 39ms/step - loss: 0.0931 - accuracy: 0.9769\n",
            "Epoch 29/50\n",
            "6/6 [==============================] - 0s 49ms/step - loss: 0.1199 - accuracy: 0.9537\n",
            "Epoch 30/50\n",
            "6/6 [==============================] - 0s 30ms/step - loss: 0.1100 - accuracy: 0.9548\n",
            "Epoch 31/50\n",
            "6/6 [==============================] - 0s 26ms/step - loss: 0.0837 - accuracy: 0.9621\n",
            "Epoch 32/50\n",
            "6/6 [==============================] - 0s 29ms/step - loss: 0.0706 - accuracy: 0.9620\n",
            "Epoch 33/50\n",
            "6/6 [==============================] - 0s 33ms/step - loss: 0.0560 - accuracy: 0.9899\n",
            "Epoch 34/50\n",
            "6/6 [==============================] - 0s 51ms/step - loss: 0.0434 - accuracy: 0.9804\n",
            "Epoch 35/50\n",
            "6/6 [==============================] - 0s 47ms/step - loss: 0.0771 - accuracy: 0.9801\n",
            "Epoch 36/50\n",
            "6/6 [==============================] - 0s 44ms/step - loss: 0.0221 - accuracy: 1.0000\n",
            "Epoch 37/50\n",
            "6/6 [==============================] - 0s 35ms/step - loss: 0.0508 - accuracy: 0.9854\n",
            "Epoch 38/50\n",
            "6/6 [==============================] - 0s 41ms/step - loss: 0.0423 - accuracy: 0.9878\n",
            "Epoch 39/50\n",
            "6/6 [==============================] - 0s 45ms/step - loss: 0.0228 - accuracy: 0.9940\n",
            "Epoch 40/50\n",
            "6/6 [==============================] - 0s 45ms/step - loss: 0.0490 - accuracy: 0.9893\n",
            "Epoch 41/50\n",
            "6/6 [==============================] - 0s 29ms/step - loss: 0.0691 - accuracy: 0.9679\n",
            "Epoch 42/50\n",
            "6/6 [==============================] - 0s 32ms/step - loss: 0.0208 - accuracy: 0.9877\n",
            "Epoch 43/50\n",
            "6/6 [==============================] - 0s 50ms/step - loss: 0.0072 - accuracy: 1.0000\n",
            "Epoch 44/50\n",
            "6/6 [==============================] - 0s 48ms/step - loss: 0.0068 - accuracy: 1.0000\n",
            "Epoch 45/50\n",
            "6/6 [==============================] - 0s 42ms/step - loss: 0.0050 - accuracy: 1.0000\n",
            "Epoch 46/50\n",
            "6/6 [==============================] - 0s 45ms/step - loss: 0.0056 - accuracy: 1.0000\n",
            "Epoch 47/50\n",
            "6/6 [==============================] - 0s 31ms/step - loss: 0.0023 - accuracy: 1.0000\n",
            "Epoch 48/50\n",
            "6/6 [==============================] - 0s 34ms/step - loss: 0.0023 - accuracy: 1.0000\n",
            "Epoch 49/50\n",
            "6/6 [==============================] - 0s 28ms/step - loss: 0.0031 - accuracy: 1.0000\n",
            "Epoch 50/50\n",
            "6/6 [==============================] - 0s 30ms/step - loss: 0.0024 - accuracy: 1.0000\n"
          ],
          "name": "stdout"
        },
        {
          "output_type": "execute_result",
          "data": {
            "text/plain": [
              "<tensorflow.python.keras.callbacks.History at 0x7f881c0a9190>"
            ]
          },
          "metadata": {
            "tags": []
          },
          "execution_count": 19
        }
      ]
    },
    {
      "cell_type": "code",
      "metadata": {
        "id": "aIAZoZsA6eX0"
      },
      "source": [
        "x_test = np.array([['I do not like movies'],[\"I feel lonely\"],[\"Let us go and watch football world cup tonight\"],[\"Honey lets go out for a date\"],[\"She is the most amazing girl\"],[\"Happy birthday Raj\"],[\"This is the best day of my life\"],[\"My mom is the best\"]])"
      ],
      "execution_count": null,
      "outputs": []
    },
    {
      "cell_type": "code",
      "metadata": {
        "id": "Mc_6WxfI6eX0",
        "colab": {
          "base_uri": "https://localhost:8080/"
        },
        "outputId": "d2741659-8796-400b-b5ae-1b1527c35aed"
      },
      "source": [
        "for x in x_test:\n",
        "    X_test_indices = sentences_to_indices(x, word_to_index, maxLen)\n",
        "    print(x[0] +' '+  label_to_emoji(np.argmax(model.predict(X_test_indices))))"
      ],
      "execution_count": null,
      "outputs": [
        {
          "output_type": "stream",
          "text": [
            "I do not like movies 😞\n",
            "I feel lonely 😞\n",
            "Let us go and watch football world cup tonight ⚾\n",
            "Honey lets go out for a date 🍴\n",
            "She is the most amazing girl ❤️\n",
            "Happy birthday Raj 😄\n",
            "This is the best day of my life 😄\n",
            "My mom is the best ❤️\n"
          ],
          "name": "stdout"
        }
      ]
    },
    {
      "cell_type": "code",
      "metadata": {
        "id": "l00pjjZI6eX0"
      },
      "source": [
        "model.test(x_test, )"
      ],
      "execution_count": null,
      "outputs": []
    }
  ]
}