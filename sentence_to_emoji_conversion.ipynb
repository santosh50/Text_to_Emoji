{
  "nbformat": 4,
  "nbformat_minor": 0,
  "metadata": {
    "colab": {
      "name": "sentence to emoji conversion.ipynb",
      "provenance": [],
      "collapsed_sections": [],
      "include_colab_link": true
    },
    "kernelspec": {
      "display_name": "Python 3",
      "language": "python",
      "name": "python3"
    },
    "language_info": {
      "codemirror_mode": {
        "name": "ipython",
        "version": 3
      },
      "file_extension": ".py",
      "mimetype": "text/x-python",
      "name": "python",
      "nbconvert_exporter": "python",
      "pygments_lexer": "ipython3",
      "version": "3.7.6"
    }
  },
  "cells": [
    {
      "cell_type": "markdown",
      "metadata": {
        "id": "view-in-github",
        "colab_type": "text"
      },
      "source": [
        "<a href=\"https://colab.research.google.com/github/santosh50/Text_to_Emoji/blob/main/sentence_to_emoji_conversion.ipynb\" target=\"_parent\"><img src=\"https://colab.research.google.com/assets/colab-badge.svg\" alt=\"Open In Colab\"/></a>"
      ]
    },
    {
      "cell_type": "code",
      "metadata": {
        "id": "_Z9eB0-WCNLi"
      },
      "source": [
        "import warnings\n",
        "warnings.simplefilter(action='ignore', category=FutureWarning)\n",
        "import numpy as np\n",
        "import pandas as pd"
      ],
      "execution_count": null,
      "outputs": []
    },
    {
      "cell_type": "code",
      "metadata": {
        "colab": {
          "base_uri": "https://localhost:8080/"
        },
        "id": "JItFcDkKDifN",
        "outputId": "a874ea56-271a-4261-cbf8-7c71b2aed740"
      },
      "source": [
        "from google.colab import drive\n",
        "drive.mount('/content/drive')"
      ],
      "execution_count": null,
      "outputs": [
        {
          "output_type": "stream",
          "text": [
            "Drive already mounted at /content/drive; to attempt to forcibly remount, call drive.mount(\"/content/drive\", force_remount=True).\n"
          ],
          "name": "stdout"
        }
      ]
    },
    {
      "cell_type": "code",
      "metadata": {
        "id": "-NXAakMXCNLr"
      },
      "source": [
        "# Reading  datasets\n",
        "mapping = pd.read_csv(\"/content/drive/My Drive/NLP_Project_Assignments_2021/20_Expressionismum/Dataset/Mapping.csv\")\n",
        "train = pd.read_csv(\"/content/drive/My Drive/NLP_Project_Assignments_2021/20_Expressionismum/Dataset/Train_balanced.csv\")\n",
        "test = pd.read_csv(\"/content/drive/My Drive/NLP_Project_Assignments_2021/20_Expressionismum/Dataset/Test.csv\")"
      ],
      "execution_count": null,
      "outputs": []
    },
    {
      "cell_type": "code",
      "metadata": {
        "id": "hyJiKLF1CNLt"
      },
      "source": [
        "# Creating a dictionary to associate emojis to their labels\n",
        "mapping = mapping.drop(['Unnamed: 0'], axis = 1)\n",
        "emoticons = mapping['emoticons'].tolist()\n",
        "mapp = {}\n",
        "for emo in range(0,len(emoticons)):\n",
        "    mapp[emo]= emoticons[emo]"
      ],
      "execution_count": null,
      "outputs": []
    },
    {
      "cell_type": "code",
      "metadata": {
        "colab": {
          "base_uri": "https://localhost:8080/"
        },
        "id": "saXid3cOCNLt",
        "outputId": "aa4dcfe5-50e0-4a92-c03e-d3cfd66b0a10"
      },
      "source": [
        "mapp"
      ],
      "execution_count": null,
      "outputs": [
        {
          "output_type": "execute_result",
          "data": {
            "text/plain": [
              "{0: '😜',\n",
              " 1: '📸',\n",
              " 2: '😍',\n",
              " 3: '😂',\n",
              " 4: '😉',\n",
              " 5: '🎄',\n",
              " 6: '📷',\n",
              " 7: '🔥',\n",
              " 8: '😘',\n",
              " 9: '❤',\n",
              " 10: '😁',\n",
              " 11: '🇺🇸',\n",
              " 12: '☀',\n",
              " 13: '✨',\n",
              " 14: '💙',\n",
              " 15: '💕',\n",
              " 16: '😎',\n",
              " 17: '😊',\n",
              " 18: '💜',\n",
              " 19: '💯'}"
            ]
          },
          "metadata": {
            "tags": []
          },
          "execution_count": 27
        }
      ]
    },
    {
      "cell_type": "code",
      "metadata": {
        "colab": {
          "base_uri": "https://localhost:8080/",
          "height": 197
        },
        "id": "nBcU2WvKE71o",
        "outputId": "05a29d8a-aa2f-4ee5-c6e1-3a64a0cdb2d1"
      },
      "source": [
        "# Random sampling of 1000 tweets from train dataset\n",
        "from sklearn.utils import resample\n",
        "train = train.drop(['Unnamed: 0'], axis = 1)\n",
        "train=resample(train,replace=False,n_samples=1000,random_state=123)\n",
        "train.head()"
      ],
      "execution_count": null,
      "outputs": [
        {
          "output_type": "execute_result",
          "data": {
            "text/html": [
              "<div>\n",
              "<style scoped>\n",
              "    .dataframe tbody tr th:only-of-type {\n",
              "        vertical-align: middle;\n",
              "    }\n",
              "\n",
              "    .dataframe tbody tr th {\n",
              "        vertical-align: top;\n",
              "    }\n",
              "\n",
              "    .dataframe thead th {\n",
              "        text-align: right;\n",
              "    }\n",
              "</style>\n",
              "<table border=\"1\" class=\"dataframe\">\n",
              "  <thead>\n",
              "    <tr style=\"text-align: right;\">\n",
              "      <th></th>\n",
              "      <th>text</th>\n",
              "      <th>label</th>\n",
              "    </tr>\n",
              "  </thead>\n",
              "  <tbody>\n",
              "    <tr>\n",
              "      <th>43073</th>\n",
              "      <td>Ladies night.... #funtimes @ MKT BAR\\n</td>\n",
              "      <td>8</td>\n",
              "    </tr>\n",
              "    <tr>\n",
              "      <th>34567</th>\n",
              "      <td>Happiness depends upon ourselves #california #...</td>\n",
              "      <td>11</td>\n",
              "    </tr>\n",
              "    <tr>\n",
              "      <th>25967</th>\n",
              "      <td>#SWEETCHICKBLOCKPARTY #WILLY.B #BLEUMARLI #PAP...</td>\n",
              "      <td>1</td>\n",
              "    </tr>\n",
              "    <tr>\n",
              "      <th>8850</th>\n",
              "      <td>Date night at Mo's w my baby. @ Moe's Place\\n</td>\n",
              "      <td>2</td>\n",
              "    </tr>\n",
              "    <tr>\n",
              "      <th>26616</th>\n",
              "      <td>Thanks for the best day fam besides the part w...</td>\n",
              "      <td>14</td>\n",
              "    </tr>\n",
              "  </tbody>\n",
              "</table>\n",
              "</div>"
            ],
            "text/plain": [
              "                                                    text  label\n",
              "43073             Ladies night.... #funtimes @ MKT BAR\\n      8\n",
              "34567  Happiness depends upon ourselves #california #...     11\n",
              "25967  #SWEETCHICKBLOCKPARTY #WILLY.B #BLEUMARLI #PAP...      1\n",
              "8850       Date night at Mo's w my baby. @ Moe's Place\\n      2\n",
              "26616  Thanks for the best day fam besides the part w...     14"
            ]
          },
          "metadata": {
            "tags": []
          },
          "execution_count": 28
        }
      ]
    },
    {
      "cell_type": "code",
      "metadata": {
        "id": "RqYBUrJmCNLv",
        "colab": {
          "base_uri": "https://localhost:8080/"
        },
        "outputId": "ba1671d4-7d2e-4ee1-eb00-c103cf1d8a73"
      },
      "source": [
        "x_train = train['text'].values\n",
        "y_train = train['label'].values\n",
        "x_train.shape"
      ],
      "execution_count": null,
      "outputs": [
        {
          "output_type": "execute_result",
          "data": {
            "text/plain": [
              "(1000,)"
            ]
          },
          "metadata": {
            "tags": []
          },
          "execution_count": 29
        }
      ]
    },
    {
      "cell_type": "markdown",
      "metadata": {
        "id": "YKf-g6BnCNLv"
      },
      "source": [
        "# **Embedding**"
      ]
    },
    {
      "cell_type": "code",
      "metadata": {
        "id": "-0K0kXX-CNLw",
        "colab": {
          "base_uri": "https://localhost:8080/"
        },
        "outputId": "481c100b-2107-4b3b-a758-460e074f0726"
      },
      "source": [
        "# Creating a dictionary for 50 dimension GLoVe embeddings of each word\n",
        "f = open(\"/content/drive/My Drive/NLP/glove.6B.50d.txt\", encoding='utf8')\n",
        "embedding_index = {}\n",
        "\n",
        "for line in f:\n",
        "    values = line.split()\n",
        "    word = values[0]\n",
        "    emb = np.array(values[1:], dtype ='float')\n",
        "    embedding_index[word] = emb\n",
        "\n",
        "embedding_index['america'].shape"
      ],
      "execution_count": null,
      "outputs": [
        {
          "output_type": "execute_result",
          "data": {
            "text/plain": [
              "(50,)"
            ]
          },
          "metadata": {
            "tags": []
          },
          "execution_count": 30
        }
      ]
    },
    {
      "cell_type": "code",
      "metadata": {
        "id": "tGQo_mczCNLw",
        "colab": {
          "base_uri": "https://localhost:8080/"
        },
        "outputId": "95c39cf2-2457-43cc-f4ea-0656e2cab115"
      },
      "source": [
        "# Function that returns embeddings for input text \n",
        "def get_embedding_output(X):\n",
        "    maxLen = 20\n",
        "    embedding_output = np.zeros((len(X), maxLen, 50))\n",
        "    \n",
        "    for ix in range(X.shape[0]):\n",
        "        my_example = X[ix].split()\n",
        "              \n",
        "        for ij in range(len(my_example)): \n",
        "            if (embedding_index.get(my_example[ij].lower()) is not None) and (ij<maxLen):\n",
        "                embedding_output[ix][ij] = embedding_index[my_example[ij].lower()]\n",
        "            \n",
        "    return embedding_output\n",
        "\n",
        "# Embedding train data\n",
        "x_train_embed = get_embedding_output(x_train)\n",
        "x_train_embed.shape"
      ],
      "execution_count": null,
      "outputs": [
        {
          "output_type": "execute_result",
          "data": {
            "text/plain": [
              "(1000, 20, 50)"
            ]
          },
          "metadata": {
            "tags": []
          },
          "execution_count": 31
        }
      ]
    },
    {
      "cell_type": "code",
      "metadata": {
        "id": "cA3JXeVxCNLx",
        "colab": {
          "base_uri": "https://localhost:8080/"
        },
        "outputId": "682d784b-6434-41a7-d45f-92d1baa58fe1"
      },
      "source": [
        "# Target variable is converted to categorical for multiclass classification\n",
        "from keras.utils import to_categorical\n",
        "y_train = to_categorical(y_train)\n",
        "y_train[1]"
      ],
      "execution_count": null,
      "outputs": [
        {
          "output_type": "execute_result",
          "data": {
            "text/plain": [
              "array([0., 0., 0., 0., 0., 0., 0., 0., 0., 0., 0., 1., 0., 0., 0., 0., 0.,\n",
              "       0., 0., 0.], dtype=float32)"
            ]
          },
          "metadata": {
            "tags": []
          },
          "execution_count": 32
        }
      ]
    },
    {
      "cell_type": "markdown",
      "metadata": {
        "id": "STdj38UqCNLy"
      },
      "source": [
        "# **SMOTE**"
      ]
    },
    {
      "cell_type": "code",
      "metadata": {
        "colab": {
          "base_uri": "https://localhost:8080/"
        },
        "id": "y25DaiMLCNLy",
        "outputId": "8d0dadaf-fdab-4430-d214-ef86ccfc7906"
      },
      "source": [
        "#SMOTE - Synthetic Minority Oversampling Technique\n",
        "from imblearn.over_sampling import SMOTE\n",
        "x_train_embed.shape"
      ],
      "execution_count": null,
      "outputs": [
        {
          "output_type": "execute_result",
          "data": {
            "text/plain": [
              "(1000, 20, 50)"
            ]
          },
          "metadata": {
            "tags": []
          },
          "execution_count": 33
        }
      ]
    },
    {
      "cell_type": "code",
      "metadata": {
        "id": "JPEhNMjwCNLy",
        "colab": {
          "base_uri": "https://localhost:8080/"
        },
        "outputId": "f2c94f65-6b6a-4c20-9c32-8ff097c2f993"
      },
      "source": [
        "# Reshaping train data to ensure no. of parameters remain intact during oversampling\n",
        "x_train_embed = x_train_embed.reshape(-1, 1000)\n",
        "x_train_embed.shape"
      ],
      "execution_count": null,
      "outputs": [
        {
          "output_type": "execute_result",
          "data": {
            "text/plain": [
              "(1000, 1000)"
            ]
          },
          "metadata": {
            "tags": []
          },
          "execution_count": 34
        }
      ]
    },
    {
      "cell_type": "code",
      "metadata": {
        "id": "bNHHzqT-CNLz"
      },
      "source": [
        "oversample = SMOTE()\n",
        "X, y = oversample.fit_resample(x_train_embed, y_train)"
      ],
      "execution_count": null,
      "outputs": []
    },
    {
      "cell_type": "code",
      "metadata": {
        "colab": {
          "base_uri": "https://localhost:8080/"
        },
        "id": "5WgCFrj_CNLz",
        "outputId": "fc4832c9-37ed-438f-aa36-723e69b91e21"
      },
      "source": [
        "# Reshaping data after oversampling, no. of samples have increased\n",
        "X = X.reshape(-1, 20, 50)\n",
        "X.shape, y.shape"
      ],
      "execution_count": null,
      "outputs": [
        {
          "output_type": "execute_result",
          "data": {
            "text/plain": [
              "((1440, 20, 50), (1440, 20))"
            ]
          },
          "metadata": {
            "tags": []
          },
          "execution_count": 36
        }
      ]
    },
    {
      "cell_type": "markdown",
      "metadata": {
        "id": "5nKJQxsCCNLz"
      },
      "source": [
        "# **Split**"
      ]
    },
    {
      "cell_type": "code",
      "metadata": {
        "id": "NrvSp4imCNLz"
      },
      "source": [
        "# Creating a train-test split\n",
        "from sklearn.model_selection import train_test_split\n",
        "x1, x2, y1, y2 = train_test_split(X, y, test_size=0.2, random_state=42)"
      ],
      "execution_count": null,
      "outputs": []
    },
    {
      "cell_type": "code",
      "metadata": {
        "colab": {
          "base_uri": "https://localhost:8080/"
        },
        "id": "BAw2hjcaCNL0",
        "outputId": "13c580b0-b6bc-4107-c919-532becf00761"
      },
      "source": [
        "x1.shape, y1.shape"
      ],
      "execution_count": null,
      "outputs": [
        {
          "output_type": "execute_result",
          "data": {
            "text/plain": [
              "((1152, 20, 50), (1152, 20))"
            ]
          },
          "metadata": {
            "tags": []
          },
          "execution_count": 38
        }
      ]
    },
    {
      "cell_type": "markdown",
      "metadata": {
        "id": "R6kt8RJ2CNL0"
      },
      "source": [
        "# **LSTM**"
      ]
    },
    {
      "cell_type": "code",
      "metadata": {
        "id": "ejWFF9APCNL0"
      },
      "source": [
        "from keras.models import Sequential \n",
        "from keras.layers import LSTM, Dense, Dropout, Bidirectional"
      ],
      "execution_count": null,
      "outputs": []
    },
    {
      "cell_type": "code",
      "metadata": {
        "colab": {
          "base_uri": "https://localhost:8080/"
        },
        "id": "Zwb-GdvDCNL0",
        "outputId": "00a11dad-a093-49fc-c649-cf246ae63a67"
      },
      "source": [
        "# Building the predictive model to be trained\n",
        "model = Sequential()\n",
        "model.add(Bidirectional(LSTM(units = 512, return_sequences=True),input_shape = (20,50)))\n",
        "model.add(Dropout(0.4))\n",
        "model.add(Bidirectional(LSTM(units=256)))\n",
        "model.add(Dropout(0.4))\n",
        "model.add(Dense(units=20, activation='softmax'))\n",
        "model.summary()"
      ],
      "execution_count": null,
      "outputs": [
        {
          "output_type": "stream",
          "text": [
            "Model: \"sequential\"\n",
            "_________________________________________________________________\n",
            "Layer (type)                 Output Shape              Param #   \n",
            "=================================================================\n",
            "bidirectional (Bidirectional (None, 20, 1024)          2306048   \n",
            "_________________________________________________________________\n",
            "dropout (Dropout)            (None, 20, 1024)          0         \n",
            "_________________________________________________________________\n",
            "bidirectional_1 (Bidirection (None, 512)               2623488   \n",
            "_________________________________________________________________\n",
            "dropout_1 (Dropout)          (None, 512)               0         \n",
            "_________________________________________________________________\n",
            "dense (Dense)                (None, 20)                10260     \n",
            "=================================================================\n",
            "Total params: 4,939,796\n",
            "Trainable params: 4,939,796\n",
            "Non-trainable params: 0\n",
            "_________________________________________________________________\n"
          ],
          "name": "stdout"
        }
      ]
    },
    {
      "cell_type": "code",
      "metadata": {
        "id": "ddU3AlR1CNL1"
      },
      "source": [
        "model.compile(optimizer='adam', loss='categorical_crossentropy', metrics =['accuracy'])"
      ],
      "execution_count": null,
      "outputs": []
    },
    {
      "cell_type": "code",
      "metadata": {
        "colab": {
          "base_uri": "https://localhost:8080/"
        },
        "id": "OvvXe2W8CNL1",
        "outputId": "84788d63-9d6e-4f1c-e20a-e0872c578fdc"
      },
      "source": [
        "# Training model with train and validation datasets\n",
        "hist = model.fit(x1, y1, validation_split=0.2, shuffle=True, batch_size=32, epochs=25)"
      ],
      "execution_count": null,
      "outputs": [
        {
          "output_type": "stream",
          "text": [
            "Epoch 1/25\n",
            "29/29 [==============================] - 39s 1s/step - loss: 3.0195 - accuracy: 0.0707 - val_loss: 2.9334 - val_accuracy: 0.1991\n",
            "Epoch 2/25\n",
            "29/29 [==============================] - 31s 1s/step - loss: 2.8651 - accuracy: 0.1369 - val_loss: 2.8203 - val_accuracy: 0.1645\n",
            "Epoch 3/25\n",
            "29/29 [==============================] - 31s 1s/step - loss: 2.6318 - accuracy: 0.2038 - val_loss: 2.8069 - val_accuracy: 0.2035\n",
            "Epoch 4/25\n",
            "29/29 [==============================] - 31s 1s/step - loss: 2.4722 - accuracy: 0.2638 - val_loss: 2.8328 - val_accuracy: 0.1861\n",
            "Epoch 5/25\n",
            "29/29 [==============================] - 31s 1s/step - loss: 2.2379 - accuracy: 0.3267 - val_loss: 2.6613 - val_accuracy: 0.2597\n",
            "Epoch 6/25\n",
            "29/29 [==============================] - 31s 1s/step - loss: 2.0372 - accuracy: 0.3932 - val_loss: 2.6195 - val_accuracy: 0.2554\n",
            "Epoch 7/25\n",
            "29/29 [==============================] - 31s 1s/step - loss: 1.7456 - accuracy: 0.5062 - val_loss: 2.5993 - val_accuracy: 0.2857\n",
            "Epoch 8/25\n",
            "29/29 [==============================] - 31s 1s/step - loss: 1.4660 - accuracy: 0.5621 - val_loss: 2.6027 - val_accuracy: 0.3247\n",
            "Epoch 9/25\n",
            "29/29 [==============================] - 31s 1s/step - loss: 1.2390 - accuracy: 0.6202 - val_loss: 2.6778 - val_accuracy: 0.3290\n",
            "Epoch 10/25\n",
            "29/29 [==============================] - 31s 1s/step - loss: 1.0211 - accuracy: 0.6853 - val_loss: 2.6112 - val_accuracy: 0.3506\n",
            "Epoch 11/25\n",
            "29/29 [==============================] - 30s 1s/step - loss: 0.7545 - accuracy: 0.7920 - val_loss: 2.6157 - val_accuracy: 0.4069\n",
            "Epoch 12/25\n",
            "29/29 [==============================] - 30s 1s/step - loss: 0.6377 - accuracy: 0.8135 - val_loss: 2.6318 - val_accuracy: 0.4372\n",
            "Epoch 13/25\n",
            "29/29 [==============================] - 30s 1s/step - loss: 0.4663 - accuracy: 0.8818 - val_loss: 2.6738 - val_accuracy: 0.4286\n",
            "Epoch 14/25\n",
            "29/29 [==============================] - 30s 1s/step - loss: 0.3373 - accuracy: 0.9198 - val_loss: 2.7421 - val_accuracy: 0.4545\n",
            "Epoch 15/25\n",
            "29/29 [==============================] - 31s 1s/step - loss: 0.2129 - accuracy: 0.9530 - val_loss: 2.8288 - val_accuracy: 0.4459\n",
            "Epoch 16/25\n",
            "29/29 [==============================] - 30s 1s/step - loss: 0.1854 - accuracy: 0.9521 - val_loss: 2.8928 - val_accuracy: 0.4589\n",
            "Epoch 17/25\n",
            "29/29 [==============================] - 30s 1s/step - loss: 0.1514 - accuracy: 0.9678 - val_loss: 2.8782 - val_accuracy: 0.4545\n",
            "Epoch 18/25\n",
            "29/29 [==============================] - 30s 1s/step - loss: 0.1130 - accuracy: 0.9734 - val_loss: 2.8592 - val_accuracy: 0.4675\n",
            "Epoch 19/25\n",
            "29/29 [==============================] - 30s 1s/step - loss: 0.0612 - accuracy: 0.9883 - val_loss: 2.9150 - val_accuracy: 0.4848\n",
            "Epoch 20/25\n",
            "29/29 [==============================] - 30s 1s/step - loss: 0.0567 - accuracy: 0.9843 - val_loss: 2.9836 - val_accuracy: 0.4978\n",
            "Epoch 21/25\n",
            "29/29 [==============================] - 30s 1s/step - loss: 0.0351 - accuracy: 0.9972 - val_loss: 3.0331 - val_accuracy: 0.5065\n",
            "Epoch 22/25\n",
            "29/29 [==============================] - 30s 1s/step - loss: 0.0149 - accuracy: 0.9999 - val_loss: 3.0636 - val_accuracy: 0.5108\n",
            "Epoch 23/25\n",
            "29/29 [==============================] - 30s 1s/step - loss: 0.0076 - accuracy: 1.0000 - val_loss: 3.0762 - val_accuracy: 0.5195\n",
            "Epoch 24/25\n",
            "29/29 [==============================] - 30s 1s/step - loss: 0.0054 - accuracy: 1.0000 - val_loss: 3.0898 - val_accuracy: 0.5065\n",
            "Epoch 25/25\n",
            "29/29 [==============================] - 30s 1s/step - loss: 0.0039 - accuracy: 1.0000 - val_loss: 3.1211 - val_accuracy: 0.5108\n"
          ],
          "name": "stdout"
        }
      ]
    },
    {
      "cell_type": "code",
      "metadata": {
        "colab": {
          "base_uri": "https://localhost:8080/"
        },
        "id": "16YJyHTaCNL1",
        "outputId": "aa146225-43f3-4c9c-a9b5-9e3b2c1c9635"
      },
      "source": [
        "# Evaluating model with test data\n",
        "model.evaluate(x2, y2)"
      ],
      "execution_count": null,
      "outputs": [
        {
          "output_type": "stream",
          "text": [
            "9/9 [==============================] - 3s 195ms/step - loss: 3.5122 - accuracy: 0.4583\n"
          ],
          "name": "stdout"
        },
        {
          "output_type": "execute_result",
          "data": {
            "text/plain": [
              "[3.5122342109680176, 0.4583333432674408]"
            ]
          },
          "metadata": {
            "tags": []
          },
          "execution_count": 43
        }
      ]
    },
    {
      "cell_type": "markdown",
      "metadata": {
        "id": "5o6iIcIJRG4C"
      },
      "source": [
        "# **Testing**"
      ]
    },
    {
      "cell_type": "code",
      "metadata": {
        "colab": {
          "base_uri": "https://localhost:8080/"
        },
        "id": "Mwq6rIzDU2ii",
        "outputId": "a2c853dc-1198-4638-a977-ee7dce1b517a"
      },
      "source": [
        "x_test = test['TEXT'].values\n",
        "x_test.shape"
      ],
      "execution_count": null,
      "outputs": [
        {
          "output_type": "execute_result",
          "data": {
            "text/plain": [
              "(25958,)"
            ]
          },
          "metadata": {
            "tags": []
          },
          "execution_count": 44
        }
      ]
    },
    {
      "cell_type": "code",
      "metadata": {
        "colab": {
          "base_uri": "https://localhost:8080/"
        },
        "id": "LpxV4nfjRFzr",
        "outputId": "91bff939-a4bf-4d34-e3bc-4a8a37d24137"
      },
      "source": [
        "# Feeding some input tweets to the model, obtaining predictions\n",
        "for x in x_test[10:20]:\n",
        "  x = np.array([x])\n",
        "  embed = get_embedding_output(x)\n",
        "  pred = model.predict(embed)\n",
        "  pred_copy = pred\n",
        "  l1 = np.argmax(pred_copy, axis=1)[0]\n",
        "  pred_copy[0][l1] = np.min(pred_copy)\n",
        "  l2 = np.argmax(pred_copy, axis=1)[0]\n",
        "  print(x[0], mapp[l1], mapp[l2])"
      ],
      "execution_count": null,
      "outputs": [
        {
          "output_type": "stream",
          "text": [
            "La La Land @ Griffith Park Observatory-Los Angeles ,CA\n",
            " 🇺🇸 📸\n",
            "Friends. #Seattle @ Seattle, Washington\n",
            " 😂 💙\n",
            "#GETIT #GOTIT #GOOD #WHATEVERIWANT #BOW @ Oakland, California\n",
            " 💜 💕\n",
            "Hanging with my bestie for the day ️#mtlove #hyalite #daysoff #fishing #endofsummer…\n",
            " 😊 ✨\n",
            "Stoked to be sitting in with @user at the @user tonight!! Therese folks are @ Great…\n",
            " ✨ 😍\n",
            "S/O Luxe Doll @user Her YouTube review on her channel for @user will be uploaded…\n",
            " 😘 ❤\n",
            "We’re proud to be Americans #sas2017 #tpusa @ West Palm Beach,…\n",
            " 🇺🇸 😍\n",
            "- This was gonna be my lunch for tommorow....BUT, it never made it to the refrigerator , 12…\n",
            " 🔥 😁\n",
            "Winter or summer, Chicago is pretty any time of the year... #mycity #chicago #mychicagopix…\n",
            " 😘 💙\n",
            "Shoutout to Delores and Herbert for the drinks, bed, and good times @user @ Ottawa, Illinois\n",
            " 💯 😉\n"
          ],
          "name": "stdout"
        }
      ]
    }
  ]
}